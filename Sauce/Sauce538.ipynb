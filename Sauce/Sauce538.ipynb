{
 "cells": [
  {
   "cell_type": "markdown",
   "metadata": {},
   "source": [
    "The 538 problem from 20/11/2020 is to consider a circular table of 20 people, where a jar is sauce is randomly passed to the left or or right by each person, until everyone has seen the sauce jar. Which person is most likely to see the jar last?\n",
    "\n",
    "First thoughts:\n",
    "1. the problem is small enough Monte Carlo, so we can pretty easily just simulate it and see what the answer is, before working it out analytically\n",
    "2. my first gut feeling is that the answer can't be the person opposite the start, because this would require the jar goes halfway round the circle, then switches course and goes all the way around back\n",
    "3. similarly, the people directly next to you have a 50% chance of being hit immediately, but if they are not then being last isn't crazy, because this is just travelling round the circle in one direction\n",
    "\n",
    "So: let's quickly simulate it and see what the answer is. Then we can do the hard part and work out why. This is just a quick and dirty direct simulation, with 10000 trials"
   ]
  },
  {
   "cell_type": "code",
   "execution_count": 70,
   "metadata": {},
   "outputs": [
    {
     "data": {
      "image/png": "[encoded data removed]",
      "text/plain": [
       "<Figure size 432x288 with 1 Axes>"
      ]
     },
     "metadata": {
      "needs_background": "light"
     },
     "output_type": "display_data"
    }
   ],
   "source": [
    "%matplotlib inline \n",
    "\n",
    "import matplotlib.pyplot as plt\n",
    "import numpy as np\n",
    "import random\n",
    "\n",
    "nSeats = 20\n",
    "trials = 10000\n",
    "\n",
    "results = np.zeros(nSeats)\n",
    "\n",
    "for n in range(trials):\n",
    "    seats = np.zeros(nSeats)\n",
    "    saucePos = 0\n",
    "    seats[0] = 1\n",
    "\n",
    "    while seats.sum() < nSeats-1:\n",
    "        if random.random() > 0.5:\n",
    "            direction = 1\n",
    "        else:\n",
    "            direction = -1\n",
    "        saucePos = (saucePos + direction) % nSeats\n",
    "        seats[saucePos] = 1\n",
    "    results[np.where(seats==0)[0][0]] += 1\n",
    "    \n",
    "plt.bar(np.arange(nSeats), results / trials * 100)\n",
    "plt.ylabel('% chance last to get sauce')\n",
    "plt.xlabel('seat number')\n",
    "plt.show()\n"
   ]
  },
  {
   "cell_type": "markdown",
   "metadata": {},
   "source": [
    "Ok. So that pretty convincingly tells us that every diner has an equal chance of being last. But why?\n",
    "\n",
    "First we'll try and answer the much simpler case of a table with 4 people at it. Now there are only three possible end positions to consider, and two of them are identical by symmetry. So there are two cases to consider:\n",
    "# 1. Adjacent diner is last\n",
    "In this case, the simplest route the sauce could have taken is to be passed to left twice, which leaves only the diner to your right without sauce. The path is $(0\\rightarrow1\\rightarrow2)$. Since each of these left passings have a 50% chance, we get the probability of this pathway, where diner 3 is last after 2 passes as $P(3, 2) = (\\frac{1}{2})^2$,.\n",
    "\n",
    "However, this is not the only path possible. Instead the sauce could be passed left to diner 1, back to the right, and then leftwards to diner 2. The path is $(0\\rightarrow1\\rightarrow0\\rightarrow1\\rightarrow2)$. This 4 move path has a probability $P(3, 4) = (\\frac{1}{2})^4$. We could of course circle more than once, so it's now pretty easy to see that in general $P(3, n) = \\frac{1}{2}^n$. Hence, the total probability of diner 3 being last is \n",
    "$$P(3) =\\sum_{n=0}^{\\infty} (\\frac{1}{2})^{2n}=\\frac{1}{3}$$\n",
    "\n",
    "So there is a 1/3 chance that diner 3 is last. By symmetry, there must also be a 1/3 chance of diner 1 being last. Which means that to make the probabilities add up there must also be a 1/3 chance of diner being last. Hence, for a four dinner table, we have proven that every diner is equally likely to be last. For the sake of completeness, we'll also do the caculations for diner 2 being last as well.\n",
    "\n",
    "# 2. Opposite diner is last\n",
    "The argument here is almost the same as for adjacent, but with the difference that there are now two mirrored paths we can take. The simplest path is $(0\\rightarrow1\\rightarrow0\\rightarrow3)$, or if we went the other way to begin with $(0\\rightarrow3\\rightarrow0\\rightarrow1)$. The math will thus be exactly the same as for the adjacent case, but the minimum number of moves is now three, and we have to double our answer to ccount for the mirror symmetry:\n",
    "$$P(2) =2\\sum_{n=0}^{\\infty} (\\frac{1}{2})^{2n+1}=\\frac{1}{3}$$\n",
    "\n",
    "Once again, we get a probability of 1/3. So in conclusion, we've proven that for 4 diners, the probability is equal for any of them being last. However, life becomes a lot harder when we try to scale this to 20 diners, because now we have to worry about working out exactly how many backtracking loops are invloved, which is not simple. So far I haven't worked out a nice generating function for the paths where $n>4$. One exists though, I'm sure of this. And the answer it finally gives will be equal probability, at least."
   ]
  }
 ],
 "metadata": {
  "kernelspec": {
   "display_name": "Python 3",
   "language": "python",
   "name": "python3"
  },
  "language_info": {
   "codemirror_mode": {
    "name": "ipython",
    "version": 3
   },
   "file_extension": ".py",
   "mimetype": "text/x-python",
   "name": "python",
   "nbconvert_exporter": "python",
   "pygments_lexer": "ipython3",
   "version": "3.8.5"
  }
 },
 "nbformat": 4,
 "nbformat_minor": 4
}
